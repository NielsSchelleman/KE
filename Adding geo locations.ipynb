{
 "cells": [
  {
   "cell_type": "code",
   "execution_count": 1,
   "id": "532b3ce6",
   "metadata": {},
   "outputs": [],
   "source": [
    "import pandas as pd\n",
    "from geopy.distance import geodesic\n",
    "import datetime"
   ]
  },
  {
   "cell_type": "code",
   "execution_count": 2,
   "id": "ea6ac91f",
   "metadata": {},
   "outputs": [
    {
     "name": "stderr",
     "output_type": "stream",
     "text": [
      "C:\\Users\\Bram\\AppData\\Local\\Continuum\\anaconda3\\lib\\site-packages\\IPython\\core\\interactiveshell.py:3058: DtypeWarning: Columns (6,7,8,25,26,38,42,50,51,52,53,59,64,69,87,88,89,95,97,98,99,100,101,106,126,127,128,129,130,133,139) have mixed types.Specify dtype option on import or set low_memory=False.\n",
      "  interactivity=interactivity, compiler=compiler, result=result)\n"
     ]
    }
   ],
   "source": [
    "data = pd.read_csv(r\"Highway-Rail_Grade_Crossing_Accident_Data.csv\")"
   ]
  },
  {
   "cell_type": "code",
   "execution_count": 3,
   "id": "782595a0",
   "metadata": {},
   "outputs": [
    {
     "name": "stderr",
     "output_type": "stream",
     "text": [
      "C:\\Users\\Bram\\AppData\\Local\\Continuum\\anaconda3\\lib\\site-packages\\IPython\\core\\interactiveshell.py:3058: DtypeWarning: Columns (11,23,24,25,28,29,30,35,36,39,40,41,48,49,51,53,55,57,62,66,67,70,71,72,73,74,77,78,79,80,81,82,83,89,100,104,106,108,109,114,116,118,120,122,124,126,135,143,145,147,148,152,153,155,156,158,159,161,165,166,167,170,171,173,174,175,176,179,180,184,187,188,189,191,192,195,196,199,202,206,210,212,213,215,227,228,229,230,233,236,237,238) have mixed types.Specify dtype option on import or set low_memory=False.\n",
      "  interactivity=interactivity, compiler=compiler, result=result)\n"
     ]
    }
   ],
   "source": [
    "data2 = pd.read_csv(\"Crossing_Inventory_Data_-_Current.csv\")"
   ]
  },
  {
   "cell_type": "code",
   "execution_count": 4,
   "id": "b4ea3906",
   "metadata": {},
   "outputs": [],
   "source": [
    "data2 = data2[['Crossing ID ','Latitude', 'Longitude']].dropna()"
   ]
  },
  {
   "cell_type": "code",
   "execution_count": 5,
   "id": "1cef8d16",
   "metadata": {},
   "outputs": [],
   "source": [
    "data2.rename(columns = {'Crossing ID ':'Grade Crossing ID'}, inplace = True)"
   ]
  },
  {
   "cell_type": "code",
   "execution_count": 6,
   "id": "b3b83162",
   "metadata": {},
   "outputs": [],
   "source": [
    "data_geo = pd.merge(data, data2, how='left', on=['Grade Crossing ID'])"
   ]
  },
  {
   "cell_type": "code",
   "execution_count": 7,
   "id": "2e83a674",
   "metadata": {},
   "outputs": [
    {
     "data": {
      "text/html": [
       "<div>\n",
       "<style scoped>\n",
       "    .dataframe tbody tr th:only-of-type {\n",
       "        vertical-align: middle;\n",
       "    }\n",
       "\n",
       "    .dataframe tbody tr th {\n",
       "        vertical-align: top;\n",
       "    }\n",
       "\n",
       "    .dataframe thead th {\n",
       "        text-align: right;\n",
       "    }\n",
       "</style>\n",
       "<table border=\"1\" class=\"dataframe\">\n",
       "  <thead>\n",
       "    <tr style=\"text-align: right;\">\n",
       "      <th></th>\n",
       "      <th>Latitude</th>\n",
       "      <th>Longitude</th>\n",
       "    </tr>\n",
       "  </thead>\n",
       "  <tbody>\n",
       "    <tr>\n",
       "      <th>0</th>\n",
       "      <td>36.5037</td>\n",
       "      <td>-119.717</td>\n",
       "    </tr>\n",
       "    <tr>\n",
       "      <th>1</th>\n",
       "      <td>35.3543</td>\n",
       "      <td>-118.896</td>\n",
       "    </tr>\n",
       "    <tr>\n",
       "      <th>2</th>\n",
       "      <td>34.6765</td>\n",
       "      <td>-86.7424</td>\n",
       "    </tr>\n",
       "    <tr>\n",
       "      <th>3</th>\n",
       "      <td>36.5183</td>\n",
       "      <td>-119.723</td>\n",
       "    </tr>\n",
       "    <tr>\n",
       "      <th>4</th>\n",
       "      <td>37.052</td>\n",
       "      <td>-120.097</td>\n",
       "    </tr>\n",
       "    <tr>\n",
       "      <th>...</th>\n",
       "      <td>...</td>\n",
       "      <td>...</td>\n",
       "    </tr>\n",
       "    <tr>\n",
       "      <th>239488</th>\n",
       "      <td>43.3158</td>\n",
       "      <td>-70.6874</td>\n",
       "    </tr>\n",
       "    <tr>\n",
       "      <th>239489</th>\n",
       "      <td>43.9135390</td>\n",
       "      <td>-69.8806370</td>\n",
       "    </tr>\n",
       "    <tr>\n",
       "      <th>239490</th>\n",
       "      <td>45.6012</td>\n",
       "      <td>-68.8184</td>\n",
       "    </tr>\n",
       "    <tr>\n",
       "      <th>239491</th>\n",
       "      <td>43.5212</td>\n",
       "      <td>-70.3706</td>\n",
       "    </tr>\n",
       "    <tr>\n",
       "      <th>239492</th>\n",
       "      <td>44.2178</td>\n",
       "      <td>-70.5168</td>\n",
       "    </tr>\n",
       "  </tbody>\n",
       "</table>\n",
       "<p>239493 rows × 2 columns</p>\n",
       "</div>"
      ],
      "text/plain": [
       "          Latitude    Longitude\n",
       "0          36.5037     -119.717\n",
       "1          35.3543     -118.896\n",
       "2          34.6765     -86.7424\n",
       "3          36.5183     -119.723\n",
       "4           37.052     -120.097\n",
       "...            ...          ...\n",
       "239488     43.3158     -70.6874\n",
       "239489  43.9135390  -69.8806370\n",
       "239490     45.6012     -68.8184\n",
       "239491     43.5212     -70.3706\n",
       "239492     44.2178     -70.5168\n",
       "\n",
       "[239493 rows x 2 columns]"
      ]
     },
     "execution_count": 7,
     "metadata": {},
     "output_type": "execute_result"
    }
   ],
   "source": [
    "data_geo[['Latitude', 'Longitude']]"
   ]
  },
  {
   "cell_type": "code",
   "execution_count": null,
   "id": "4d44ba82",
   "metadata": {},
   "outputs": [],
   "source": []
  }
 ],
 "metadata": {
  "kernelspec": {
   "display_name": "Python 3",
   "language": "python",
   "name": "python3"
  },
  "language_info": {
   "codemirror_mode": {
    "name": "ipython",
    "version": 3
   },
   "file_extension": ".py",
   "mimetype": "text/x-python",
   "name": "python",
   "nbconvert_exporter": "python",
   "pygments_lexer": "ipython3",
   "version": "3.7.3"
  }
 },
 "nbformat": 4,
 "nbformat_minor": 5
}
